{
 "cells": [
  {
   "cell_type": "code",
   "execution_count": 1,
   "metadata": {
    "scrolled": true
   },
   "outputs": [],
   "source": [
    "import astropy.io.fits as fits\n",
    "import numpy as np\n",
    "import fitsio, os, sys\n",
    "from astropy.table import Column\n",
    "from astropy.table import Table\n",
    "from math import cos,pi,log10\n",
    "import matplotlib.pylab as plt\n",
    "import healpy as hp\n",
    "import pylab as py\n",
    "from desitarget.geomask import radec_match_to \n",
    "\n",
    "path='/uufs/chpc.utah.edu/common/home/astro/dawson/sarahE/eboss/Dec2019/'\n",
    "plotpath='/uufs/chpc.utah.edu/common/home/astro/dawson/sarahE/eboss/Dec2019/plots/'\n",
    "\n",
    "#### Binningrp: 30kpc/h - ~200 Mpc/h\n",
    "powmax=2.5\n",
    "powmin=-1.5\n",
    "delpow=0.19\n",
    "edges=10.**(np.arange(powmin,powmax,delpow))\n",
    "mids=[]\n",
    "for i in range(len(edges)-1):\n",
    "        mids.append((10**((powmin)+((i+1)*(delpow)))+10**((powmin)+(i*(delpow))))/2)\n",
    "nbins = len(mids)-1\n",
    "#print(nbins,mids, edges,len(mids))\n"
   ]
  },
  {
   "cell_type": "code",
   "execution_count": 2,
   "metadata": {},
   "outputs": [],
   "source": [
    "import glob\n",
    "ddfiles = glob.glob(path+'/DD_QSO_v7_1_NGC_S/*_DD.fits') \n",
    "\n",
    "qso,h = fitsio.read(path+'eBOSS_QSO_clustering_NGC_v7_1_withS_zerosones.fits',header=True)"
   ]
  },
  {
   "cell_type": "code",
   "execution_count": null,
   "metadata": {},
   "outputs": [],
   "source": [
    "sumarr_rp_DD = np.zeros((10000,nbins))\n",
    "sumarr_rp_wDD = np.zeros((10000,nbins))\n",
    "\n",
    "%time\n",
    "for f in ddfiles[0:1]:\n",
    "    print(f)\n",
    "    dd,h = fitsio.read(f,header=True)\n",
    "    \n",
    "    ind1 = dd['index1']\n",
    "    ind2 = dd['index2']\n",
    "    \n",
    "    \n",
    "    weights = []\n",
    "    \n",
    "#     w1 = qso[ind1]['zerosones']\n",
    "#     w2 = qso[ind2]['zerosones']\n",
    "#     for p in range(len(w1)):\n",
    "#         print('pair ',p)\n",
    "#         ww1 = list(w1[p].decode())\n",
    "#         ww2 = list(w2[p].decode())\n",
    "#         w1w2 = [int(a)*int(b) for a,b in zip(ww2,ww1)]\n",
    "#         weights.append(w1w2)\n",
    "    c= 0 \n",
    "    for p in range(len(ind1)):\n",
    "        ww1 = list(qso[ind1[p]]['zerosones'].decode())\n",
    "        ww2 = list(qso[ind2[p]]['zerosones'].decode())\n",
    "        #try: \n",
    "           # weights.append(np.sum(np.asarray(ww1, dtype='int')*np.asarray(ww2, dtype='int')))\n",
    "           # print(p,weights[p])\n",
    "        #except:\n",
    "       #      pass\n",
    "        \n",
    "        if (len(ww1)!= len(ww2)):\n",
    "            c +=1\n",
    "            print('pair ',p, len(ww1),len(ww2), c)\n",
    "            \n",
    "        \n",
    "        weights.append(np.sum(np.asarray(ww1[0:np.min([len(ww1),len(ww2)])], dtype='int')*np.asarray(ww2[0:np.min([len(ww1),len(ww2)])], dtype='int')))\n",
    "    \n",
    "    \n",
    "    weights = np.asarray(weights)\n",
    "    s1 =  qso[ind1]['s']\n",
    "    s2 = qso[ind2]['s']\n",
    "\n",
    "    d = dd['dist']\n",
    "    rp = (s1+s2)*d*pi/180./2.\n",
    "    pii = abs(s1-s2)\n",
    "    arr_rp = np.zeros((10000,nbins))\n",
    "    warr_rp = np.zeros((10000,nbins))\n",
    "\n",
    "    print('start ...')\n",
    "    \n",
    "    for j in range(nbins-1):\n",
    "        wrp  = ((rp < edges[j+1]) & (rp > edges[j]))\n",
    "        if np.sum(wrp)>0:\n",
    "            w = weights[wrp]\n",
    "            a = pii[wrp]\n",
    "            print(a)\n",
    "            arr = np.zeros(10000)\n",
    "            warr = np.zeros(10000)\n",
    "            \n",
    "            for k in range(len(a)):\n",
    "                arr[int(a[k])] += 1\n",
    "                warr[int(a[k])] += 1*w[k]\n",
    "\n",
    "            arr_rp[:,j] = arr   \n",
    "            warr_rp[:,j] = warr    \n",
    "\n",
    "    sumarr_rp_DD = sumarr_rp_DD + arr_rp   \n",
    "    sumarr_rp_wDD = sumarr_rp_wDD + warr_rp   \n",
    "    \n",
    "    \n",
    "    \n",
    "print(sumarr_rp_DD) \n",
    "\n",
    "print(sumarr_rp_wDD) \n"
   ]
  },
  {
   "cell_type": "code",
   "execution_count": 11,
   "metadata": {},
   "outputs": [
    {
     "data": {
      "text/plain": [
       "(46241445, 46241445)"
      ]
     },
     "execution_count": 11,
     "metadata": {},
     "output_type": "execute_result"
    }
   ],
   "source": [
    "len(weights),len(dd)"
   ]
  },
  {
   "cell_type": "code",
   "execution_count": 12,
   "metadata": {},
   "outputs": [
    {
     "data": {
      "text/plain": [
       "array([[       0.,        0.,        0., ...,  6475753., 14740896.,\n",
       "               0.],\n",
       "       [       0.,        0.,        0., ...,  6441118., 14550434.,\n",
       "               0.],\n",
       "       [       0.,        0.,        0., ...,  6460796., 15162869.,\n",
       "               0.],\n",
       "       ...,\n",
       "       [       0.,        0.,        0., ...,        0.,        0.,\n",
       "               0.],\n",
       "       [       0.,        0.,        0., ...,        0.,        0.,\n",
       "               0.],\n",
       "       [       0.,        0.,        0., ...,        0.,        0.,\n",
       "               0.]])"
      ]
     },
     "execution_count": 12,
     "metadata": {},
     "output_type": "execute_result"
    }
   ],
   "source": [
    "sumarr_rp_wDD"
   ]
  },
  {
   "cell_type": "code",
   "execution_count": 13,
   "metadata": {},
   "outputs": [],
   "source": [
    "t = Table(dd)"
   ]
  },
  {
   "cell_type": "code",
   "execution_count": 14,
   "metadata": {},
   "outputs": [],
   "source": [
    "col = Column(weights, name='w1w2')\n",
    "t.add_column(col,index=0)\n",
    "\n",
    "t.write(path+'/DD_QSO_v7_1_NGC_S/'+'spherematch.0_DD_weights.fits')"
   ]
  },
  {
   "cell_type": "code",
   "execution_count": null,
   "metadata": {},
   "outputs": [],
   "source": []
  }
 ],
 "metadata": {
  "kernelspec": {
   "display_name": "Python 3",
   "language": "python",
   "name": "python3"
  },
  "language_info": {
   "codemirror_mode": {
    "name": "ipython",
    "version": 3
   },
   "file_extension": ".py",
   "mimetype": "text/x-python",
   "name": "python",
   "nbconvert_exporter": "python",
   "pygments_lexer": "ipython3",
   "version": "3.5.2"
  }
 },
 "nbformat": 4,
 "nbformat_minor": 2
}
